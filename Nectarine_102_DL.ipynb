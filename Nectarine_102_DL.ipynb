{
  "nbformat": 4,
  "nbformat_minor": 0,
  "metadata": {
    "colab": {
      "name": "Nectarine_102_DL.ipynb",
      "provenance": [],
      "authorship_tag": "ABX9TyMyqkb3vcX/SX5bHddRsNNz",
      "include_colab_link": true
    },
    "kernelspec": {
      "name": "python3",
      "display_name": "Python 3"
    },
    "accelerator": "GPU"
  },
  "cells": [
    {
      "cell_type": "markdown",
      "metadata": {
        "id": "view-in-github",
        "colab_type": "text"
      },
      "source": [
        "<a href=\"https://colab.research.google.com/github/YunusKhan/NectarineDemo/blob/master/Nectarine_102_DL.ipynb\" target=\"_parent\"><img src=\"https://colab.research.google.com/assets/colab-badge.svg\" alt=\"Open In Colab\"/></a>"
      ]
    },
    {
      "cell_type": "code",
      "metadata": {
        "id": "gvOnjwcrS1XJ",
        "colab_type": "code",
        "colab": {
          "base_uri": "https://localhost:8080/",
          "height": 289
        },
        "outputId": "c7d143f4-a878-47cb-fdef-339b973d25fa"
      },
      "source": [
        "print (\" \\\\\\\n",
        "Steps Taken \\n \\\\\\\n",
        "1. Tried 2 approaches - Statistical  (file named 101) and Deep Learning ( file names 102_DL) \\n \\\\\\\n",
        "2. Done some data clean up , kept only right wrist position, and actions 1-5  \\n \\\\\\\n",
        "3. Removed column which has position 2 as it was dead weight and did not carry significance  \\n \\\\\\\n",
        " \\n \\\\\\\n",
        "Linear Regression - very low accuracy of 16  \\n \\\\\\\n",
        "LogisticRegression - even lower accuracy  \\n \\\\\\\n",
        "Decision Tree - 99.6 accuracy  \\n \\\\\\\n",
        "RandomForestRegressor - 99.4 accuracy   \\n \\\\\\\n",
        " \\n \\\\\\\n",
        "Deep Learning  \\n \\\\\\\n",
        "Tried a Simple Dense Model - low accuracy of 15% with 20 epochs \\n \\\\\\\n",
        "Tried a simple Conv1D in Keras - varying accuracy of 25 to 65 % \\n \\\\\\\n",
        "Tried a more complex Conv1d Keras with more layers , regularization, different loss function, different optimizers and activation functions, got better accuracy \\n \\\\\\\n",
        "\\n \\\\\\\n",
        "\")"
      ],
      "execution_count": 1,
      "outputs": [
        {
          "output_type": "stream",
          "text": [
            " \\Steps Taken \n",
            " \\1. Tried 2 approaches - Statistical  (file named 101) and Deep Learning ( file names 102_DL) \n",
            " \\2. Done some data clean up , kept only right wrist position, and actions 1-5  \n",
            " \\3. Removed column which has position 2 as it was dead weight and did not carry significance  \n",
            " \\ \n",
            " \\Linear Regression - very low accuracy of 16  \n",
            " \\LogisticRegression - even lower accuracy  \n",
            " \\Decision Tree - 99.6 accuracy  \n",
            " \\RandomForestRegressor - 99.4 accuracy   \n",
            " \\ \n",
            " \\Deep Learning  \n",
            " \\Tried a Simple Dense Model - low accuracy of 15% with 20 epochs \n",
            " \\Tried a simple Conv1D in Keras - varying accuracy of 25 to 65 % \n",
            " \\Tried a more complex Conv1d Keras with more layers , regularization, different loss function, different optimizers and activation functions, got better accuracy \n",
            " \\\n",
            " \\\n"
          ],
          "name": "stdout"
        }
      ]
    },
    {
      "cell_type": "code",
      "metadata": {
        "id": "sPKk8AIKpPoD",
        "colab_type": "code",
        "colab": {}
      },
      "source": [
        "from __future__ import print_function\n",
        "\n",
        "import warnings\n",
        "warnings.simplefilter(action='ignore', category=FutureWarning)\n",
        "\n",
        "import glob\n",
        "import numpy as np\n",
        "import pandas as pd\n",
        "import seaborn as sns\n",
        "import matplotlib.pyplot as plt\n",
        "\n",
        "from sklearn import preprocessing\n",
        "from sklearn.model_selection import train_test_split\n",
        "\n",
        "from tensorflow.python.keras.layers import Dense, Dropout, Flatten, Conv1D, MaxPooling1D, BatchNormalization\n",
        "from tensorflow.python.keras.models import Sequential\n",
        "from tensorflow.python.keras.regularizers import  l1_l2\n",
        "\n"
      ],
      "execution_count": 0,
      "outputs": []
    },
    {
      "cell_type": "code",
      "metadata": {
        "id": "zRxRsnjZpZ5x",
        "colab_type": "code",
        "colab": {
          "base_uri": "https://localhost:8080/",
          "height": 122
        },
        "outputId": "f31fac03-0320-435b-c8ab-1405717471d6"
      },
      "source": [
        "from google.colab import files\n",
        "from google.colab import drive\n",
        "drive.mount('/content/drive')"
      ],
      "execution_count": 3,
      "outputs": [
        {
          "output_type": "stream",
          "text": [
            "Go to this URL in a browser: https://accounts.google.com/o/oauth2/auth?client_id=947318989803-6bn6qk8qdgf4n4g3pfee6491hc0brc4i.apps.googleusercontent.com&redirect_uri=urn%3aietf%3awg%3aoauth%3a2.0%3aoob&response_type=code&scope=email%20https%3a%2f%2fwww.googleapis.com%2fauth%2fdocs.test%20https%3a%2f%2fwww.googleapis.com%2fauth%2fdrive%20https%3a%2f%2fwww.googleapis.com%2fauth%2fdrive.photos.readonly%20https%3a%2f%2fwww.googleapis.com%2fauth%2fpeopleapi.readonly\n",
            "\n",
            "Enter your authorization code:\n",
            "··········\n",
            "Mounted at /content/drive\n"
          ],
          "name": "stdout"
        }
      ]
    },
    {
      "cell_type": "code",
      "metadata": {
        "id": "5ZDoAtkRphhi",
        "colab_type": "code",
        "colab": {}
      },
      "source": [
        "lframe = []\n",
        "path = \"/content/drive/My Drive/FORTH_TRACE_DATASET-master/*/*.csv\"\n",
        "for f in glob.glob(path):\n",
        "    lframe.append(pd.read_csv(f, header=None))\n",
        "df = pd.concat(lframe, ignore_index=False, sort=False, axis=0)"
      ],
      "execution_count": 0,
      "outputs": []
    },
    {
      "cell_type": "code",
      "metadata": {
        "id": "YFm4U3tepl13",
        "colab_type": "code",
        "colab": {}
      },
      "source": [
        "df = df[ df[0] == 2]  # dropping all other positions based data other than right wrist \n",
        "df = df[ df[11] <= 5] # dropping all other activites other than 1-5 \n",
        "\n",
        "del df[0] # removing the first column because it is only right wrist and is dead weight \n",
        "\n",
        "X_scaled = preprocessing.scale(df[10].values)  # normalising the data on  time stamp as it is very varied and fluctuating so keeping it between -1 & 1\n",
        "# may move it to 0 to 1 or some other thing later, right or some other scaling \n",
        "df[10] = X_scaled"
      ],
      "execution_count": 0,
      "outputs": []
    },
    {
      "cell_type": "code",
      "metadata": {
        "id": "yjilj95MqLnM",
        "colab_type": "code",
        "colab": {}
      },
      "source": [
        "x = df.iloc[:,:-1].values\n",
        "y = df.iloc[:,10:].values.ravel()\n",
        "x_train, x_test, y_train, y_test = train_test_split(x, y, test_size=0.2)"
      ],
      "execution_count": 0,
      "outputs": []
    },
    {
      "cell_type": "code",
      "metadata": {
        "id": "cFYvqgZ5yNTQ",
        "colab_type": "code",
        "colab": {
          "base_uri": "https://localhost:8080/",
          "height": 1000
        },
        "outputId": "e32b7fb5-e24b-4574-f315-31f62cc0361b"
      },
      "source": [
        "model = Sequential()\n",
        "model.add(Dense(1024, input_dim=10, kernel_initializer='normal', activation='relu'))\n",
        "model.add(Dense(1, kernel_initializer='normal'))\n",
        "model.compile(loss='mean_squared_error', optimizer='rmsprop', metrics=['accuracy'])\n",
        "print(model.summary())\n",
        "model.fit(x_train, y_train, batch_size = 1024, epochs = 25, verbose = 2, validation_data = (x_test, y_test))\n",
        "dense_dl_score = model.evaluate(x_test, y_test)\n",
        "print ( 'Dense DL  ... ', dense_dl_score)\n",
        "#print ( 'Dense DL Accuracy ... ', dense_dl_score[1])"
      ],
      "execution_count": 11,
      "outputs": [
        {
          "output_type": "stream",
          "text": [
            "Model: \"sequential_3\"\n",
            "_________________________________________________________________\n",
            "Layer (type)                 Output Shape              Param #   \n",
            "=================================================================\n",
            "dense_5 (Dense)              (None, 1024)              11264     \n",
            "_________________________________________________________________\n",
            "dense_6 (Dense)              (None, 1)                 1025      \n",
            "=================================================================\n",
            "Total params: 12,289\n",
            "Trainable params: 12,289\n",
            "Non-trainable params: 0\n",
            "_________________________________________________________________\n",
            "None\n",
            "Epoch 1/25\n",
            "473/473 - 1s - loss: 2.0147 - accuracy: 0.2579 - val_loss: 1.0951 - val_accuracy: 0.2615\n",
            "Epoch 2/25\n",
            "473/473 - 1s - loss: 1.2053 - accuracy: 0.2600 - val_loss: 0.6205 - val_accuracy: 0.2615\n",
            "Epoch 3/25\n",
            "473/473 - 1s - loss: 0.9085 - accuracy: 0.2601 - val_loss: 0.6836 - val_accuracy: 0.2615\n",
            "Epoch 4/25\n",
            "473/473 - 1s - loss: 0.7475 - accuracy: 0.2606 - val_loss: 0.7104 - val_accuracy: 0.2615\n",
            "Epoch 5/25\n",
            "473/473 - 1s - loss: 0.6642 - accuracy: 0.2607 - val_loss: 0.7106 - val_accuracy: 0.2615\n",
            "Epoch 6/25\n",
            "473/473 - 1s - loss: 0.6052 - accuracy: 0.2607 - val_loss: 0.7196 - val_accuracy: 0.2615\n",
            "Epoch 7/25\n",
            "473/473 - 1s - loss: 0.5679 - accuracy: 0.2606 - val_loss: 0.5248 - val_accuracy: 0.2615\n",
            "Epoch 8/25\n",
            "473/473 - 1s - loss: 0.5415 - accuracy: 0.2606 - val_loss: 0.4378 - val_accuracy: 0.2615\n",
            "Epoch 9/25\n",
            "473/473 - 1s - loss: 0.5211 - accuracy: 0.2607 - val_loss: 0.5847 - val_accuracy: 0.2615\n",
            "Epoch 10/25\n",
            "473/473 - 1s - loss: 0.5090 - accuracy: 0.2607 - val_loss: 0.4762 - val_accuracy: 0.2615\n",
            "Epoch 11/25\n",
            "473/473 - 1s - loss: 0.4961 - accuracy: 0.2606 - val_loss: 0.5150 - val_accuracy: 0.2615\n",
            "Epoch 12/25\n",
            "473/473 - 1s - loss: 0.4855 - accuracy: 0.2607 - val_loss: 0.4445 - val_accuracy: 0.2615\n",
            "Epoch 13/25\n",
            "473/473 - 1s - loss: 0.4752 - accuracy: 0.2607 - val_loss: 0.4759 - val_accuracy: 0.2615\n",
            "Epoch 14/25\n",
            "473/473 - 1s - loss: 0.4667 - accuracy: 0.2607 - val_loss: 0.4490 - val_accuracy: 0.2615\n",
            "Epoch 15/25\n",
            "473/473 - 1s - loss: 0.4618 - accuracy: 0.2607 - val_loss: 0.4149 - val_accuracy: 0.2615\n",
            "Epoch 16/25\n",
            "473/473 - 1s - loss: 0.4524 - accuracy: 0.2607 - val_loss: 0.4701 - val_accuracy: 0.2615\n",
            "Epoch 17/25\n",
            "473/473 - 1s - loss: 0.4473 - accuracy: 0.2607 - val_loss: 0.5013 - val_accuracy: 0.2615\n",
            "Epoch 18/25\n",
            "473/473 - 1s - loss: 0.4405 - accuracy: 0.2606 - val_loss: 0.4164 - val_accuracy: 0.2615\n",
            "Epoch 19/25\n",
            "473/473 - 1s - loss: 0.4356 - accuracy: 0.2607 - val_loss: 0.4954 - val_accuracy: 0.2615\n",
            "Epoch 20/25\n",
            "473/473 - 1s - loss: 0.4319 - accuracy: 0.2607 - val_loss: 0.3927 - val_accuracy: 0.2615\n",
            "Epoch 21/25\n",
            "473/473 - 1s - loss: 0.4289 - accuracy: 0.2607 - val_loss: 0.4421 - val_accuracy: 0.2615\n",
            "Epoch 22/25\n",
            "473/473 - 1s - loss: 0.4236 - accuracy: 0.2607 - val_loss: 0.4847 - val_accuracy: 0.2615\n",
            "Epoch 23/25\n",
            "473/473 - 1s - loss: 0.4221 - accuracy: 0.2607 - val_loss: 0.3887 - val_accuracy: 0.2615\n",
            "Epoch 24/25\n",
            "473/473 - 1s - loss: 0.4180 - accuracy: 0.2607 - val_loss: 0.4424 - val_accuracy: 0.2615\n",
            "Epoch 25/25\n",
            "473/473 - 1s - loss: 0.4158 - accuracy: 0.2607 - val_loss: 0.4063 - val_accuracy: 0.2615\n",
            "3784/3784 [==============================] - 5s 1ms/step - loss: 0.4067 - accuracy: 0.2615\n",
            "Dense DL  ...  [0.40668192505836487, 0.26151278614997864]\n"
          ],
          "name": "stdout"
        }
      ]
    },
    {
      "cell_type": "code",
      "metadata": {
        "id": "lfsGOiuUTvyS",
        "colab_type": "code",
        "colab": {}
      },
      "source": [
        "x = df.iloc[:,:-1].values\n",
        "y = df.iloc[:,10:].values.ravel()\n",
        "x = x.reshape((x.shape[0], x.shape[1], 1))\n",
        "x_train, x_test, y_train, y_test = train_test_split(x, y, test_size=0.2)"
      ],
      "execution_count": 0,
      "outputs": []
    },
    {
      "cell_type": "code",
      "metadata": {
        "id": "AYT4xub42jxH",
        "colab_type": "code",
        "colab": {
          "base_uri": "https://localhost:8080/",
          "height": 765
        },
        "outputId": "7ff4fc01-2859-415e-ebd9-1fe747dc4b0b"
      },
      "source": [
        "model = Sequential()\n",
        "model.add(Conv1D ( filters = 128, kernel_size = 3, activation = 'relu', input_shape = (10,1)))\n",
        "model.add(Conv1D ( filters = 128, kernel_size = 3, activation = 'relu'))\n",
        "model.add(Dropout(0.5))\n",
        "model.add(MaxPooling1D(pool_size=2))\n",
        "model.add(Flatten())\n",
        "model.add(Dense(128, activation='relu'))\n",
        "model.compile(loss='mae', optimizer='adam', metrics=['accuracy'])\n",
        "\n",
        "print(model.summary())\n",
        "model.fit(x_train, y_train, batch_size = 1024, epochs = 10, verbose = 2, validation_data = (x_test, y_test))\n",
        "dense_dl_score = model.evaluate(x_test, y_test)\n",
        "print ( 'Dense DL  ... ', dense_dl_score[0])\n",
        "print ( 'Dense DL Accuracy ... ', dense_dl_score[1])"
      ],
      "execution_count": 15,
      "outputs": [
        {
          "output_type": "stream",
          "text": [
            "Model: \"sequential_6\"\n",
            "_________________________________________________________________\n",
            "Layer (type)                 Output Shape              Param #   \n",
            "=================================================================\n",
            "conv1d_8 (Conv1D)            (None, 8, 128)            512       \n",
            "_________________________________________________________________\n",
            "conv1d_9 (Conv1D)            (None, 6, 128)            49280     \n",
            "_________________________________________________________________\n",
            "dropout_8 (Dropout)          (None, 6, 128)            0         \n",
            "_________________________________________________________________\n",
            "max_pooling1d_4 (MaxPooling1 (None, 3, 128)            0         \n",
            "_________________________________________________________________\n",
            "flatten_4 (Flatten)          (None, 384)               0         \n",
            "_________________________________________________________________\n",
            "dense_10 (Dense)             (None, 128)               49280     \n",
            "=================================================================\n",
            "Total params: 99,072\n",
            "Trainable params: 99,072\n",
            "Non-trainable params: 0\n",
            "_________________________________________________________________\n",
            "None\n",
            "Epoch 1/10\n",
            "473/473 - 3s - loss: 0.7563 - accuracy: 0.0062 - val_loss: 0.7414 - val_accuracy: 0.0027\n",
            "Epoch 2/10\n",
            "473/473 - 3s - loss: 0.5087 - accuracy: 0.0051 - val_loss: 0.7367 - val_accuracy: 6.8560e-04\n",
            "Epoch 3/10\n",
            "473/473 - 3s - loss: 0.4574 - accuracy: 0.0035 - val_loss: 0.6447 - val_accuracy: 0.0011\n",
            "Epoch 4/10\n",
            "473/473 - 3s - loss: 0.4238 - accuracy: 0.0028 - val_loss: 0.6064 - val_accuracy: 0.0020\n",
            "Epoch 5/10\n",
            "473/473 - 3s - loss: 0.4069 - accuracy: 0.0031 - val_loss: 0.5847 - val_accuracy: 4.5432e-04\n",
            "Epoch 6/10\n",
            "473/473 - 3s - loss: 0.3979 - accuracy: 0.0026 - val_loss: 0.6732 - val_accuracy: 8.1777e-04\n",
            "Epoch 7/10\n",
            "473/473 - 3s - loss: 0.3867 - accuracy: 0.0038 - val_loss: 0.5762 - val_accuracy: 0.0043\n",
            "Epoch 8/10\n",
            "473/473 - 3s - loss: 0.3782 - accuracy: 0.0032 - val_loss: 0.5601 - val_accuracy: 0.0020\n",
            "Epoch 9/10\n",
            "473/473 - 3s - loss: 0.3695 - accuracy: 0.0041 - val_loss: 0.5931 - val_accuracy: 0.0186\n",
            "Epoch 10/10\n",
            "473/473 - 3s - loss: 0.3609 - accuracy: 0.0060 - val_loss: 0.5861 - val_accuracy: 0.0033\n",
            "3784/3784 [==============================] - 6s 2ms/step - loss: 0.5859 - accuracy: 0.0033\n",
            "Dense DL  ...  0.5858833193778992\n",
            "Dense DL Accuracy ...  0.003345420816913247\n"
          ],
          "name": "stdout"
        }
      ]
    },
    {
      "cell_type": "code",
      "metadata": {
        "id": "BpNRv3r45xMA",
        "colab_type": "code",
        "colab": {
          "base_uri": "https://localhost:8080/",
          "height": 1000
        },
        "outputId": "1302ebcb-baac-42d5-bed9-8d3dc46af31c"
      },
      "source": [
        "model = Sequential()\n",
        "model.add(Conv1D(filters=128, kernel_size=3,padding='valid', activation='relu',input_shape=(10,1), strides = 1,  kernel_regularizer=l1_l2(l1=0.05, l2=0.05)))\n",
        "model.add(MaxPooling1D(2,data_format='channels_last'))\n",
        "model.add(Dropout(0.6))\n",
        "model.add(BatchNormalization())\n",
        "model.add(Conv1D(filters=128, kernel_size=3 , padding='valid', activation='relu',kernel_regularizer = l1_l2(l1=0.05, l2=0.05), strides=1))\n",
        "model.add(Dropout(0.6))\n",
        "model.add(BatchNormalization())\n",
        "model.add(Flatten())\n",
        "model.add(Dense(128, activation='relu'))\n",
        "model.add(Dropout(0.5))\n",
        "model.add(Dense(3, activation = 'softmax'))\n",
        "model.compile(loss='squared_hinge', optimizer='adadelta', metrics=['accuracy'])\n",
        "print(model.summary())\n",
        "model.fit(x_train, y_train, batch_size=1024, epochs=20, verbose=2, validation_data=(x_test, y_test))\n",
        "score = model.evaluate(x_test, y_test, verbose=0)\n",
        "print('Test loss:', score[0])\n",
        "print('Test accuracy:', score[1])"
      ],
      "execution_count": 48,
      "outputs": [
        {
          "output_type": "stream",
          "text": [
            "Model: \"sequential_25\"\n",
            "_________________________________________________________________\n",
            "Layer (type)                 Output Shape              Param #   \n",
            "=================================================================\n",
            "conv1d_49 (Conv1D)           (None, 8, 128)            512       \n",
            "_________________________________________________________________\n",
            "max_pooling1d_23 (MaxPooling (None, 4, 128)            0         \n",
            "_________________________________________________________________\n",
            "dropout_60 (Dropout)         (None, 4, 128)            0         \n",
            "_________________________________________________________________\n",
            "batch_normalization_40 (Batc (None, 4, 128)            512       \n",
            "_________________________________________________________________\n",
            "conv1d_50 (Conv1D)           (None, 2, 128)            49280     \n",
            "_________________________________________________________________\n",
            "dropout_61 (Dropout)         (None, 2, 128)            0         \n",
            "_________________________________________________________________\n",
            "batch_normalization_41 (Batc (None, 2, 128)            512       \n",
            "_________________________________________________________________\n",
            "flatten_20 (Flatten)         (None, 256)               0         \n",
            "_________________________________________________________________\n",
            "dense_41 (Dense)             (None, 128)               32896     \n",
            "_________________________________________________________________\n",
            "dropout_62 (Dropout)         (None, 128)               0         \n",
            "_________________________________________________________________\n",
            "dense_42 (Dense)             (None, 3)                 387       \n",
            "=================================================================\n",
            "Total params: 84,099\n",
            "Trainable params: 83,587\n",
            "Non-trainable params: 512\n",
            "_________________________________________________________________\n",
            "None\n",
            "Epoch 1/20\n",
            "473/473 - 3s - loss: 115.7318 - accuracy: 0.1674 - val_loss: 114.3718 - val_accuracy: 0.1439\n",
            "Epoch 2/20\n",
            "473/473 - 3s - loss: 113.0414 - accuracy: 0.1629 - val_loss: 111.3676 - val_accuracy: 0.1432\n",
            "Epoch 3/20\n",
            "473/473 - 3s - loss: 109.7748 - accuracy: 0.1595 - val_loss: 107.8631 - val_accuracy: 0.1428\n",
            "Epoch 4/20\n",
            "473/473 - 3s - loss: 106.0630 - accuracy: 0.1549 - val_loss: 103.9616 - val_accuracy: 0.1424\n",
            "Epoch 5/20\n",
            "473/473 - 3s - loss: 101.9933 - accuracy: 0.1532 - val_loss: 99.7395 - val_accuracy: 0.1420\n",
            "Epoch 6/20\n",
            "473/473 - 3s - loss: 97.6356 - accuracy: 0.1510 - val_loss: 95.2607 - val_accuracy: 0.1416\n",
            "Epoch 7/20\n",
            "473/473 - 3s - loss: 93.0509 - accuracy: 0.1489 - val_loss: 90.5820 - val_accuracy: 0.1414\n",
            "Epoch 8/20\n",
            "473/473 - 3s - loss: 88.2890 - accuracy: 0.1467 - val_loss: 85.7475 - val_accuracy: 0.1413\n",
            "Epoch 9/20\n",
            "473/473 - 3s - loss: 83.3942 - accuracy: 0.1454 - val_loss: 80.8012 - val_accuracy: 0.1412\n",
            "Epoch 10/20\n",
            "473/473 - 3s - loss: 78.4046 - accuracy: 0.1433 - val_loss: 75.7784 - val_accuracy: 0.1410\n",
            "Epoch 11/20\n",
            "473/473 - 3s - loss: 73.3570 - accuracy: 0.1429 - val_loss: 70.7154 - val_accuracy: 0.1409\n",
            "Epoch 12/20\n",
            "473/473 - 3s - loss: 68.2860 - accuracy: 0.1428 - val_loss: 65.6459 - val_accuracy: 0.1410\n",
            "Epoch 13/20\n",
            "473/473 - 3s - loss: 63.2253 - accuracy: 0.1426 - val_loss: 60.6013 - val_accuracy: 0.1409\n",
            "Epoch 14/20\n",
            "473/473 - 3s - loss: 58.1996 - accuracy: 0.1422 - val_loss: 55.6030 - val_accuracy: 0.1410\n",
            "Epoch 15/20\n",
            "473/473 - 3s - loss: 53.2382 - accuracy: 0.1412 - val_loss: 50.6870 - val_accuracy: 0.1410\n",
            "Epoch 16/20\n",
            "473/473 - 3s - loss: 48.3737 - accuracy: 0.1417 - val_loss: 45.8815 - val_accuracy: 0.1411\n",
            "Epoch 17/20\n",
            "473/473 - 3s - loss: 43.6324 - accuracy: 0.1423 - val_loss: 41.2115 - val_accuracy: 0.1411\n",
            "Epoch 18/20\n",
            "473/473 - 3s - loss: 39.0365 - accuracy: 0.1424 - val_loss: 36.6977 - val_accuracy: 0.1410\n",
            "Epoch 19/20\n",
            "473/473 - 3s - loss: 34.6103 - accuracy: 0.1427 - val_loss: 32.3637 - val_accuracy: 0.1410\n",
            "Epoch 20/20\n",
            "473/473 - 3s - loss: 30.3702 - accuracy: 0.1432 - val_loss: 28.2263 - val_accuracy: 0.1410\n",
            "Test loss: 28.226181030273438\n",
            "Test accuracy: 0.14099504053592682\n"
          ],
          "name": "stdout"
        }
      ]
    },
    {
      "cell_type": "code",
      "metadata": {
        "id": "nirDlr6uaTpf",
        "colab_type": "code",
        "colab": {
          "base_uri": "https://localhost:8080/",
          "height": 51
        },
        "outputId": "708db5ef-59d7-4be6-cb85-8d07b13a1c58"
      },
      "source": [
        "model.save(\"nectarine_dl1.h5\")\n",
        "loss,acc = model.evaluate(x_test,  y_test, verbose=2)\n",
        "model.save_weights('./checkpoints/my_checkpoint')\n",
        "model.load_weights('./checkpoints/my_checkpoint')\n",
        "print(loss, acc)"
      ],
      "execution_count": 39,
      "outputs": [
        {
          "output_type": "stream",
          "text": [
            "3784/3784 - 7s - loss: 33.8894 - accuracy: 0.1418\n",
            "33.8893928527832 0.14177976548671722\n"
          ],
          "name": "stdout"
        }
      ]
    }
  ]
}