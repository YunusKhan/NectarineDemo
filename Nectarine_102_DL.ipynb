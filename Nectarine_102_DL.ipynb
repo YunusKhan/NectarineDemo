{
  "nbformat": 4,
  "nbformat_minor": 0,
  "metadata": {
    "colab": {
      "name": "Nectarine_102_DL.ipynb",
      "provenance": [],
      "authorship_tag": "ABX9TyOzDB7UGKAxpUyQo/WhKB46",
      "include_colab_link": true
    },
    "kernelspec": {
      "name": "python3",
      "display_name": "Python 3"
    },
    "accelerator": "GPU"
  },
  "cells": [
    {
      "cell_type": "markdown",
      "metadata": {
        "id": "view-in-github",
        "colab_type": "text"
      },
      "source": [
        "<a href=\"https://colab.research.google.com/github/YunusKhan/NectarineDemo/blob/master/Nectarine_102_DL.ipynb\" target=\"_parent\"><img src=\"https://colab.research.google.com/assets/colab-badge.svg\" alt=\"Open In Colab\"/></a>"
      ]
    },
    {
      "cell_type": "code",
      "metadata": {
        "id": "gvOnjwcrS1XJ",
        "colab_type": "code",
        "colab": {
          "base_uri": "https://localhost:8080/",
          "height": 306
        },
        "outputId": "9bc36013-5d83-408f-9182-768e397dd409"
      },
      "source": [
        "print (\" \\\\\\\n",
        "Steps Taken \\n \\\\\\\n",
        "1. Tried 2 approaches - Statistical  (file named 101) and Deep Learning ( file names 102_DL) \\n \\\\\\\n",
        "2. Done some data clean up , kept only right wrist position, and actions 1-5  \\n \\\\\\\n",
        "3. Removed column which has position 2 as it was dead weight and did not carry significance  \\n \\\\\\\n",
        " \\n \\\\\\\n",
        "Linear Regression - very low accuracy of 16  \\n \\\\\\\n",
        "LogisticRegression - even lower accuracy  \\n \\\\\\\n",
        "Decision Tree - 99.6 accuracy  \\n \\\\\\\n",
        "RandomForestRegressor - 99.4 accuracy   \\n \\\\\\\n",
        " \\n \\\\\\\n",
        "Deep Learning  \\n \\\\\\\n",
        "Tried a Simple Dense Model - low accuracy of 15% with 20 epochs \\n \\\\\\\n",
        "Tried a simple Conv1D in Keras - varying accuracy of 25 to 65 % \\n \\\\\\\n",
        "Tried a more complex Conv1d Keras with more layers , regularization, different loss function, different optimizers and activation functions, got better accuracy \\n \\\\\\\n",
        "Tried multiple optimizers but most of them convereged to single values - rmsprop, adagrad, sgd etc adadelta was a little better but stuck around 35% \\n \\\\\\\n",
        "\\n \\\\\\\n",
        "\")"
      ],
      "execution_count": 89,
      "outputs": [
        {
          "output_type": "stream",
          "text": [
            " \\Steps Taken \n",
            " \\1. Tried 2 approaches - Statistical  (file named 101) and Deep Learning ( file names 102_DL) \n",
            " \\2. Done some data clean up , kept only right wrist position, and actions 1-5  \n",
            " \\3. Removed column which has position 2 as it was dead weight and did not carry significance  \n",
            " \\ \n",
            " \\Linear Regression - very low accuracy of 16  \n",
            " \\LogisticRegression - even lower accuracy  \n",
            " \\Decision Tree - 99.6 accuracy  \n",
            " \\RandomForestRegressor - 99.4 accuracy   \n",
            " \\ \n",
            " \\Deep Learning  \n",
            " \\Tried a Simple Dense Model - low accuracy of 15% with 20 epochs \n",
            " \\Tried a simple Conv1D in Keras - varying accuracy of 25 to 65 % \n",
            " \\Tried a more complex Conv1d Keras with more layers , regularization, different loss function, different optimizers and activation functions, got better accuracy \n",
            " \\Tried multiple optimizers but most of them convereged to single values - rmsprop, adagrad, sgd etc adadelta was a little better but stuck around 35% \n",
            " \\\n",
            " \\\n"
          ],
          "name": "stdout"
        }
      ]
    },
    {
      "cell_type": "code",
      "metadata": {
        "id": "sPKk8AIKpPoD",
        "colab_type": "code",
        "colab": {}
      },
      "source": [
        "from __future__ import print_function\n",
        "\n",
        "import warnings\n",
        "warnings.simplefilter(action='ignore', category=FutureWarning)\n",
        "\n",
        "import glob\n",
        "import numpy as np\n",
        "import pandas as pd\n",
        "import seaborn as sns\n",
        "import matplotlib.pyplot as plt\n",
        "\n",
        "from sklearn import preprocessing\n",
        "from sklearn.model_selection import train_test_split\n",
        "\n",
        "from tensorflow.python.keras.layers import Dense, Dropout, Flatten, Conv1D, MaxPooling1D, BatchNormalization\n",
        "from tensorflow.python.keras.models import Sequential\n",
        "from tensorflow.python.keras.regularizers import  l1_l2\n",
        "from tensorflow.python.keras.optimizers import SGD\n",
        "\n"
      ],
      "execution_count": 0,
      "outputs": []
    },
    {
      "cell_type": "code",
      "metadata": {
        "id": "zRxRsnjZpZ5x",
        "colab_type": "code",
        "colab": {
          "base_uri": "https://localhost:8080/",
          "height": 34
        },
        "outputId": "7e50a9ea-0614-42f0-df95-b9c1d1077549"
      },
      "source": [
        "from google.colab import files\n",
        "from google.colab import drive\n",
        "drive.mount('/content/drive')"
      ],
      "execution_count": 99,
      "outputs": [
        {
          "output_type": "stream",
          "text": [
            "Drive already mounted at /content/drive; to attempt to forcibly remount, call drive.mount(\"/content/drive\", force_remount=True).\n"
          ],
          "name": "stdout"
        }
      ]
    },
    {
      "cell_type": "code",
      "metadata": {
        "id": "5ZDoAtkRphhi",
        "colab_type": "code",
        "colab": {}
      },
      "source": [
        "lframe = []\n",
        "path = \"/content/drive/My Drive/FORTH_TRACE_DATASET-master/*/*.csv\"\n",
        "for f in glob.glob(path):\n",
        "    lframe.append(pd.read_csv(f, header=None))\n",
        "df = pd.concat(lframe, ignore_index=False, sort=False, axis=0)"
      ],
      "execution_count": 0,
      "outputs": []
    },
    {
      "cell_type": "code",
      "metadata": {
        "id": "YFm4U3tepl13",
        "colab_type": "code",
        "colab": {}
      },
      "source": [
        "df = df[ df[0] == 2]  # dropping all other positions based data other than right wrist \n",
        "df = df[ df[11] <= 5] # dropping all other activites other than 1-5 \n",
        "\n",
        "del df[0] # removing the first column because it is only right wrist and is dead weight \n",
        "\n",
        "X_scaled = preprocessing.scale(df[10].values)  # normalising the data on  time stamp as it is very varied and fluctuating so keeping it between -1 & 1\n",
        "# may move it to 0 to 1 or some other thing later, right or some other scaling \n",
        "df[10] = X_scaled"
      ],
      "execution_count": 0,
      "outputs": []
    },
    {
      "cell_type": "code",
      "metadata": {
        "id": "yjilj95MqLnM",
        "colab_type": "code",
        "colab": {}
      },
      "source": [
        "x = df.iloc[:,:-1].values\n",
        "y = df.iloc[:,10:].values.ravel()\n",
        "x_train, x_test, y_train, y_test = train_test_split(x, y, test_size=0.2)"
      ],
      "execution_count": 0,
      "outputs": []
    },
    {
      "cell_type": "code",
      "metadata": {
        "id": "cFYvqgZ5yNTQ",
        "colab_type": "code",
        "colab": {
          "base_uri": "https://localhost:8080/",
          "height": 1000
        },
        "outputId": "e32b7fb5-e24b-4574-f315-31f62cc0361b"
      },
      "source": [
        "model = Sequential()\n",
        "model.add(Dense(1024, input_dim=10, kernel_initializer='normal', activation='relu'))\n",
        "model.add(Dense(1, kernel_initializer='normal'))\n",
        "model.compile(loss='mean_squared_error', optimizer='rmsprop', metrics=['accuracy'])\n",
        "print(model.summary())\n",
        "model.fit(x_train, y_train, batch_size = 1024, epochs = 25, verbose = 2, validation_data = (x_test, y_test))\n",
        "dense_dl_score = model.evaluate(x_test, y_test)\n",
        "print ( 'Dense DL  ... ', dense_dl_score)\n",
        "#print ( 'Dense DL Accuracy ... ', dense_dl_score[1])"
      ],
      "execution_count": 11,
      "outputs": [
        {
          "output_type": "stream",
          "text": [
            "Model: \"sequential_3\"\n",
            "_________________________________________________________________\n",
            "Layer (type)                 Output Shape              Param #   \n",
            "=================================================================\n",
            "dense_5 (Dense)              (None, 1024)              11264     \n",
            "_________________________________________________________________\n",
            "dense_6 (Dense)              (None, 1)                 1025      \n",
            "=================================================================\n",
            "Total params: 12,289\n",
            "Trainable params: 12,289\n",
            "Non-trainable params: 0\n",
            "_________________________________________________________________\n",
            "None\n",
            "Epoch 1/25\n",
            "473/473 - 1s - loss: 2.0147 - accuracy: 0.2579 - val_loss: 1.0951 - val_accuracy: 0.2615\n",
            "Epoch 2/25\n",
            "473/473 - 1s - loss: 1.2053 - accuracy: 0.2600 - val_loss: 0.6205 - val_accuracy: 0.2615\n",
            "Epoch 3/25\n",
            "473/473 - 1s - loss: 0.9085 - accuracy: 0.2601 - val_loss: 0.6836 - val_accuracy: 0.2615\n",
            "Epoch 4/25\n",
            "473/473 - 1s - loss: 0.7475 - accuracy: 0.2606 - val_loss: 0.7104 - val_accuracy: 0.2615\n",
            "Epoch 5/25\n",
            "473/473 - 1s - loss: 0.6642 - accuracy: 0.2607 - val_loss: 0.7106 - val_accuracy: 0.2615\n",
            "Epoch 6/25\n",
            "473/473 - 1s - loss: 0.6052 - accuracy: 0.2607 - val_loss: 0.7196 - val_accuracy: 0.2615\n",
            "Epoch 7/25\n",
            "473/473 - 1s - loss: 0.5679 - accuracy: 0.2606 - val_loss: 0.5248 - val_accuracy: 0.2615\n",
            "Epoch 8/25\n",
            "473/473 - 1s - loss: 0.5415 - accuracy: 0.2606 - val_loss: 0.4378 - val_accuracy: 0.2615\n",
            "Epoch 9/25\n",
            "473/473 - 1s - loss: 0.5211 - accuracy: 0.2607 - val_loss: 0.5847 - val_accuracy: 0.2615\n",
            "Epoch 10/25\n",
            "473/473 - 1s - loss: 0.5090 - accuracy: 0.2607 - val_loss: 0.4762 - val_accuracy: 0.2615\n",
            "Epoch 11/25\n",
            "473/473 - 1s - loss: 0.4961 - accuracy: 0.2606 - val_loss: 0.5150 - val_accuracy: 0.2615\n",
            "Epoch 12/25\n",
            "473/473 - 1s - loss: 0.4855 - accuracy: 0.2607 - val_loss: 0.4445 - val_accuracy: 0.2615\n",
            "Epoch 13/25\n",
            "473/473 - 1s - loss: 0.4752 - accuracy: 0.2607 - val_loss: 0.4759 - val_accuracy: 0.2615\n",
            "Epoch 14/25\n",
            "473/473 - 1s - loss: 0.4667 - accuracy: 0.2607 - val_loss: 0.4490 - val_accuracy: 0.2615\n",
            "Epoch 15/25\n",
            "473/473 - 1s - loss: 0.4618 - accuracy: 0.2607 - val_loss: 0.4149 - val_accuracy: 0.2615\n",
            "Epoch 16/25\n",
            "473/473 - 1s - loss: 0.4524 - accuracy: 0.2607 - val_loss: 0.4701 - val_accuracy: 0.2615\n",
            "Epoch 17/25\n",
            "473/473 - 1s - loss: 0.4473 - accuracy: 0.2607 - val_loss: 0.5013 - val_accuracy: 0.2615\n",
            "Epoch 18/25\n",
            "473/473 - 1s - loss: 0.4405 - accuracy: 0.2606 - val_loss: 0.4164 - val_accuracy: 0.2615\n",
            "Epoch 19/25\n",
            "473/473 - 1s - loss: 0.4356 - accuracy: 0.2607 - val_loss: 0.4954 - val_accuracy: 0.2615\n",
            "Epoch 20/25\n",
            "473/473 - 1s - loss: 0.4319 - accuracy: 0.2607 - val_loss: 0.3927 - val_accuracy: 0.2615\n",
            "Epoch 21/25\n",
            "473/473 - 1s - loss: 0.4289 - accuracy: 0.2607 - val_loss: 0.4421 - val_accuracy: 0.2615\n",
            "Epoch 22/25\n",
            "473/473 - 1s - loss: 0.4236 - accuracy: 0.2607 - val_loss: 0.4847 - val_accuracy: 0.2615\n",
            "Epoch 23/25\n",
            "473/473 - 1s - loss: 0.4221 - accuracy: 0.2607 - val_loss: 0.3887 - val_accuracy: 0.2615\n",
            "Epoch 24/25\n",
            "473/473 - 1s - loss: 0.4180 - accuracy: 0.2607 - val_loss: 0.4424 - val_accuracy: 0.2615\n",
            "Epoch 25/25\n",
            "473/473 - 1s - loss: 0.4158 - accuracy: 0.2607 - val_loss: 0.4063 - val_accuracy: 0.2615\n",
            "3784/3784 [==============================] - 5s 1ms/step - loss: 0.4067 - accuracy: 0.2615\n",
            "Dense DL  ...  [0.40668192505836487, 0.26151278614997864]\n"
          ],
          "name": "stdout"
        }
      ]
    },
    {
      "cell_type": "code",
      "metadata": {
        "id": "AYT4xub42jxH",
        "colab_type": "code",
        "colab": {
          "base_uri": "https://localhost:8080/",
          "height": 765
        },
        "outputId": "7ff4fc01-2859-415e-ebd9-1fe747dc4b0b"
      },
      "source": [
        "model = Sequential()\n",
        "model.add(Conv1D ( filters = 128, kernel_size = 3, activation = 'relu', input_shape = (10,1)))\n",
        "model.add(Conv1D ( filters = 128, kernel_size = 3, activation = 'relu'))\n",
        "model.add(Dropout(0.5))\n",
        "model.add(MaxPooling1D(pool_size=2))\n",
        "model.add(Flatten())\n",
        "model.add(Dense(128, activation='relu'))\n",
        "model.compile(loss='mae', optimizer='adam', metrics=['accuracy'])\n",
        "\n",
        "print(model.summary())\n",
        "model.fit(x_train, y_train, batch_size = 1024, epochs = 10, verbose = 2, validation_data = (x_test, y_test))\n",
        "dense_dl_score = model.evaluate(x_test, y_test)\n",
        "print ( 'Dense DL  ... ', dense_dl_score[0])\n",
        "print ( 'Dense DL Accuracy ... ', dense_dl_score[1])"
      ],
      "execution_count": 15,
      "outputs": [
        {
          "output_type": "stream",
          "text": [
            "Model: \"sequential_6\"\n",
            "_________________________________________________________________\n",
            "Layer (type)                 Output Shape              Param #   \n",
            "=================================================================\n",
            "conv1d_8 (Conv1D)            (None, 8, 128)            512       \n",
            "_________________________________________________________________\n",
            "conv1d_9 (Conv1D)            (None, 6, 128)            49280     \n",
            "_________________________________________________________________\n",
            "dropout_8 (Dropout)          (None, 6, 128)            0         \n",
            "_________________________________________________________________\n",
            "max_pooling1d_4 (MaxPooling1 (None, 3, 128)            0         \n",
            "_________________________________________________________________\n",
            "flatten_4 (Flatten)          (None, 384)               0         \n",
            "_________________________________________________________________\n",
            "dense_10 (Dense)             (None, 128)               49280     \n",
            "=================================================================\n",
            "Total params: 99,072\n",
            "Trainable params: 99,072\n",
            "Non-trainable params: 0\n",
            "_________________________________________________________________\n",
            "None\n",
            "Epoch 1/10\n",
            "473/473 - 3s - loss: 0.7563 - accuracy: 0.0062 - val_loss: 0.7414 - val_accuracy: 0.0027\n",
            "Epoch 2/10\n",
            "473/473 - 3s - loss: 0.5087 - accuracy: 0.0051 - val_loss: 0.7367 - val_accuracy: 6.8560e-04\n",
            "Epoch 3/10\n",
            "473/473 - 3s - loss: 0.4574 - accuracy: 0.0035 - val_loss: 0.6447 - val_accuracy: 0.0011\n",
            "Epoch 4/10\n",
            "473/473 - 3s - loss: 0.4238 - accuracy: 0.0028 - val_loss: 0.6064 - val_accuracy: 0.0020\n",
            "Epoch 5/10\n",
            "473/473 - 3s - loss: 0.4069 - accuracy: 0.0031 - val_loss: 0.5847 - val_accuracy: 4.5432e-04\n",
            "Epoch 6/10\n",
            "473/473 - 3s - loss: 0.3979 - accuracy: 0.0026 - val_loss: 0.6732 - val_accuracy: 8.1777e-04\n",
            "Epoch 7/10\n",
            "473/473 - 3s - loss: 0.3867 - accuracy: 0.0038 - val_loss: 0.5762 - val_accuracy: 0.0043\n",
            "Epoch 8/10\n",
            "473/473 - 3s - loss: 0.3782 - accuracy: 0.0032 - val_loss: 0.5601 - val_accuracy: 0.0020\n",
            "Epoch 9/10\n",
            "473/473 - 3s - loss: 0.3695 - accuracy: 0.0041 - val_loss: 0.5931 - val_accuracy: 0.0186\n",
            "Epoch 10/10\n",
            "473/473 - 3s - loss: 0.3609 - accuracy: 0.0060 - val_loss: 0.5861 - val_accuracy: 0.0033\n",
            "3784/3784 [==============================] - 6s 2ms/step - loss: 0.5859 - accuracy: 0.0033\n",
            "Dense DL  ...  0.5858833193778992\n",
            "Dense DL Accuracy ...  0.003345420816913247\n"
          ],
          "name": "stdout"
        }
      ]
    },
    {
      "cell_type": "code",
      "metadata": {
        "id": "lfsGOiuUTvyS",
        "colab_type": "code",
        "colab": {}
      },
      "source": [
        "x = df.iloc[:,:-1].values\n",
        "y = df.iloc[:,10:].values.ravel()\n",
        "x = x.reshape((x.shape[0], x.shape[1], 1))\n",
        "x_train, x_test, y_train, y_test = train_test_split(x, y, test_size=0.2)"
      ],
      "execution_count": 0,
      "outputs": []
    },
    {
      "cell_type": "code",
      "metadata": {
        "id": "BpNRv3r45xMA",
        "colab_type": "code",
        "colab": {
          "base_uri": "https://localhost:8080/",
          "height": 1000
        },
        "outputId": "9f4d022c-d0b8-43fa-d42f-975d4ce5190e"
      },
      "source": [
        "model = Sequential()\n",
        "model.add(Conv1D(filters=256, kernel_size=3,padding='valid', activation='relu',input_shape=(10,1), strides = 1,  kernel_regularizer=l1_l2(l1=0.1, l2=0.1)))\n",
        "model.add(MaxPooling1D(2,data_format='channels_last'))\n",
        "model.add(Dropout(0.6))\n",
        "model.add(BatchNormalization())\n",
        "model.add(Conv1D(filters=128, kernel_size=3 , padding='valid', activation='relu',kernel_regularizer = l1_l2(l1=0.1, l2=0.1), strides=1))\n",
        "model.add(Dropout(0.6))\n",
        "model.add(BatchNormalization())\n",
        "model.add(Flatten())\n",
        "model.add(Dense(128, activation='relu'))\n",
        "model.add(Dropout(0.5))\n",
        "model.add(Dense(3, activation = 'softmax'))\n",
        "model.compile(loss='squared_hinge', optimizer='adadelta', metrics=['accuracy'])\n",
        "print(model.summary())\n",
        "model.fit(x_train, y_train, batch_size=1024, epochs=15, verbose=2, validation_data=(x_test, y_test))\n",
        "score = model.evaluate(x_test, y_test, verbose=0)\n",
        "print('Test loss:', score[0])\n",
        "print('Test accuracy:', score[1])\n",
        "model.save(\"nectarine_dl1.h5\")\n",
        "loss,acc = model.evaluate(x_test,  y_test, verbose=2)\n",
        "model.save_weights('./checkpoints/my_checkpoint')\n",
        "print(loss, acc)"
      ],
      "execution_count": 123,
      "outputs": [
        {
          "output_type": "stream",
          "text": [
            "Model: \"sequential_51\"\n",
            "_________________________________________________________________\n",
            "Layer (type)                 Output Shape              Param #   \n",
            "=================================================================\n",
            "conv1d_100 (Conv1D)          (None, 8, 256)            1024      \n",
            "_________________________________________________________________\n",
            "max_pooling1d_48 (MaxPooling (None, 4, 256)            0         \n",
            "_________________________________________________________________\n",
            "dropout_133 (Dropout)        (None, 4, 256)            0         \n",
            "_________________________________________________________________\n",
            "batch_normalization_89 (Batc (None, 4, 256)            1024      \n",
            "_________________________________________________________________\n",
            "conv1d_101 (Conv1D)          (None, 2, 128)            98432     \n",
            "_________________________________________________________________\n",
            "dropout_134 (Dropout)        (None, 2, 128)            0         \n",
            "_________________________________________________________________\n",
            "batch_normalization_90 (Batc (None, 2, 128)            512       \n",
            "_________________________________________________________________\n",
            "flatten_44 (Flatten)         (None, 256)               0         \n",
            "_________________________________________________________________\n",
            "dense_89 (Dense)             (None, 128)               32896     \n",
            "_________________________________________________________________\n",
            "dropout_135 (Dropout)        (None, 128)               0         \n",
            "_________________________________________________________________\n",
            "dense_90 (Dense)             (None, 3)                 387       \n",
            "=================================================================\n",
            "Total params: 134,275\n",
            "Trainable params: 133,507\n",
            "Non-trainable params: 768\n",
            "_________________________________________________________________\n",
            "None\n",
            "Epoch 1/15\n",
            "473/473 - 4s - loss: 371.7231 - accuracy: 0.0991 - val_loss: 366.7472 - val_accuracy: 0.0013\n",
            "Epoch 2/15\n",
            "473/473 - 3s - loss: 361.1551 - accuracy: 0.1065 - val_loss: 354.9500 - val_accuracy: 0.0016\n",
            "Epoch 3/15\n",
            "473/473 - 3s - loss: 348.3491 - accuracy: 0.1119 - val_loss: 341.2172 - val_accuracy: 0.0026\n",
            "Epoch 4/15\n",
            "473/473 - 3s - loss: 333.8325 - accuracy: 0.1154 - val_loss: 325.9751 - val_accuracy: 0.0083\n",
            "Epoch 5/15\n",
            "473/473 - 3s - loss: 317.9785 - accuracy: 0.1191 - val_loss: 309.5611 - val_accuracy: 0.0477\n",
            "Epoch 6/15\n",
            "473/473 - 3s - loss: 301.0934 - accuracy: 0.1221 - val_loss: 292.2484 - val_accuracy: 0.1342\n",
            "Epoch 7/15\n",
            "473/473 - 3s - loss: 283.4276 - accuracy: 0.1240 - val_loss: 274.2621 - val_accuracy: 0.2168\n",
            "Epoch 8/15\n",
            "473/473 - 3s - loss: 265.1805 - accuracy: 0.1262 - val_loss: 255.7852 - val_accuracy: 0.2366\n",
            "Epoch 9/15\n",
            "473/473 - 3s - loss: 246.5361 - accuracy: 0.1274 - val_loss: 237.0081 - val_accuracy: 0.2405\n",
            "Epoch 10/15\n",
            "473/473 - 3s - loss: 227.6808 - accuracy: 0.1287 - val_loss: 218.1001 - val_accuracy: 0.2416\n",
            "Epoch 11/15\n",
            "473/473 - 3s - loss: 208.7666 - accuracy: 0.1289 - val_loss: 199.2097 - val_accuracy: 0.2436\n",
            "Epoch 12/15\n",
            "473/473 - 3s - loss: 189.9474 - accuracy: 0.1305 - val_loss: 180.4882 - val_accuracy: 0.2454\n",
            "Epoch 13/15\n",
            "473/473 - 3s - loss: 171.3698 - accuracy: 0.1308 - val_loss: 162.0815 - val_accuracy: 0.2465\n",
            "Epoch 14/15\n",
            "473/473 - 3s - loss: 153.1826 - accuracy: 0.1290 - val_loss: 144.1380 - val_accuracy: 0.2456\n",
            "Epoch 15/15\n",
            "473/473 - 3s - loss: 135.5161 - accuracy: 0.1294 - val_loss: 126.7685 - val_accuracy: 0.2476\n",
            "Test loss: 126.76829528808594\n",
            "Test accuracy: 0.24764375388622284\n",
            "3784/3784 - 7s - loss: 126.7683 - accuracy: 0.2476\n",
            "126.76829528808594 0.24764375388622284\n"
          ],
          "name": "stdout"
        }
      ]
    },
    {
      "cell_type": "code",
      "metadata": {
        "id": "nirDlr6uaTpf",
        "colab_type": "code",
        "colab": {
          "base_uri": "https://localhost:8080/",
          "height": 153
        },
        "outputId": "0bbd40b2-7054-44f8-d4c9-94740cbd8bea"
      },
      "source": [
        "new_model = tf.keras.models.load_model('nectarine_dl1.h5')\n",
        "new_model.fit(x_train, y_train, batch_size=1024, epochs=15, verbose=2, validation_data=(x_test, y_test))\n",
        "score = new_model.evaluate(x_test, y_test, verbose=0)"
      ],
      "execution_count": 0,
      "outputs": [
        {
          "output_type": "stream",
          "text": [
            "WARNING:tensorflow:Error in loading the saved optimizer state. As a result, your model is starting with a freshly initialized optimizer.\n",
            "Epoch 1/15\n",
            "473/473 - 4s - loss: 124.3890 - accuracy: 0.1289 - val_loss: 121.5314 - val_accuracy: 0.2474\n",
            "Epoch 2/15\n",
            "473/473 - 3s - loss: 118.4079 - accuracy: 0.1302 - val_loss: 114.8928 - val_accuracy: 0.2471\n",
            "Epoch 3/15\n",
            "473/473 - 3s - loss: 111.2533 - accuracy: 0.1307 - val_loss: 107.2776 - val_accuracy: 0.2474\n",
            "Epoch 4/15\n"
          ],
          "name": "stdout"
        }
      ]
    }
  ]
}