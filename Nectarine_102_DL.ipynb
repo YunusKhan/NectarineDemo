{
  "nbformat": 4,
  "nbformat_minor": 0,
  "metadata": {
    "colab": {
      "name": "Nectarine_102_DL.ipynb",
      "provenance": [],
      "authorship_tag": "ABX9TyPBCs2aRyCo83U+Z6rxhApE",
      "include_colab_link": true
    },
    "kernelspec": {
      "name": "python3",
      "display_name": "Python 3"
    }
  },
  "cells": [
    {
      "cell_type": "markdown",
      "metadata": {
        "id": "view-in-github",
        "colab_type": "text"
      },
      "source": [
        "<a href=\"https://colab.research.google.com/github/YunusKhan/NectarineDemo/blob/master/Nectarine_102_DL.ipynb\" target=\"_parent\"><img src=\"https://colab.research.google.com/assets/colab-badge.svg\" alt=\"Open In Colab\"/></a>"
      ]
    },
    {
      "cell_type": "code",
      "metadata": {
        "id": "sPKk8AIKpPoD",
        "colab_type": "code",
        "colab": {}
      },
      "source": [
        "from __future__ import print_function\n",
        "\n",
        "import warnings\n",
        "warnings.simplefilter(action='ignore', category=FutureWarning)\n",
        "\n",
        "import glob\n",
        "import numpy as np\n",
        "import pandas as pd\n",
        "import seaborn as sns\n",
        "import matplotlib.pyplot as plt\n",
        "\n",
        "from sklearn import preprocessing\n",
        "from sklearn.model_selection import train_test_split\n",
        "\n",
        "from tensorflow.python.keras.layers import Dense, Dropout, Flatten, Conv1D, MaxPooling1D, BatchNormalization\n",
        "from tensorflow.python.keras.models import Sequential\n",
        "from tensorflow.python.keras.regularizers import  l1_l2\n",
        "\n"
      ],
      "execution_count": 0,
      "outputs": []
    },
    {
      "cell_type": "code",
      "metadata": {
        "id": "zRxRsnjZpZ5x",
        "colab_type": "code",
        "colab": {
          "base_uri": "https://localhost:8080/",
          "height": 34
        },
        "outputId": "6e688312-4d66-4259-c39e-5a2991321dc5"
      },
      "source": [
        "from google.colab import files\n",
        "from google.colab import drive\n",
        "drive.mount('/content/drive')"
      ],
      "execution_count": 53,
      "outputs": [
        {
          "output_type": "stream",
          "text": [
            "Drive already mounted at /content/drive; to attempt to forcibly remount, call drive.mount(\"/content/drive\", force_remount=True).\n"
          ],
          "name": "stdout"
        }
      ]
    },
    {
      "cell_type": "code",
      "metadata": {
        "id": "5ZDoAtkRphhi",
        "colab_type": "code",
        "colab": {}
      },
      "source": [
        "lframe = []\n",
        "path = \"/content/drive/My Drive/FORTH_TRACE_DATASET-master/*/*.csv\"\n",
        "for f in glob.glob(path):\n",
        "    lframe.append(pd.read_csv(f, header=None))\n",
        "df = pd.concat(lframe, ignore_index=False, sort=False, axis=0)\n",
        "\n"
      ],
      "execution_count": 0,
      "outputs": []
    },
    {
      "cell_type": "code",
      "metadata": {
        "id": "YFm4U3tepl13",
        "colab_type": "code",
        "colab": {}
      },
      "source": [
        "df = df[ df[0] == 2]  # dropping all other positions based data other than right wrist \n",
        "df = df[ df[11] <= 5] # dropping all other activites other than 1-5 \n",
        "\n",
        "del df[0] # removing the first column because it is only right wrist and is dead weight \n",
        "\n",
        "X_scaled = preprocessing.scale(df[10].values)  # normalising the data on  time stamp as it is very varied and fluctuating so keeping it between -1 & 1\n",
        "# may move it to 0 to 1 or some other thing later, right or some other scaling \n",
        "df[10] = X_scaled"
      ],
      "execution_count": 0,
      "outputs": []
    },
    {
      "cell_type": "code",
      "metadata": {
        "id": "yjilj95MqLnM",
        "colab_type": "code",
        "colab": {}
      },
      "source": [
        "x = df.iloc[:,:-1]\n",
        "y = df.iloc[:,10:].values.ravel()\n",
        "#x = x.values.reshape((x.shape[0], x.shape[1], 1))\n",
        "x_train, x_test, y_train, y_test = train_test_split(x, y, test_size=0.2)"
      ],
      "execution_count": 0,
      "outputs": []
    },
    {
      "cell_type": "code",
      "metadata": {
        "id": "cFYvqgZ5yNTQ",
        "colab_type": "code",
        "colab": {
          "base_uri": "https://localhost:8080/",
          "height": 1000
        },
        "outputId": "c24363be-409e-4b50-b4c4-639ba7342aac"
      },
      "source": [
        "model = Sequential()\n",
        "model.add(Dense(1024, input_dim=10, kernel_initializer='normal', activation='relu'))\n",
        "model.add(Dense(1, kernel_initializer='normal'))\n",
        "model.compile(loss='mean_squared_error', optimizer='rmsprop', metrics=['accuracy'])\n",
        "print(model.summary())\n",
        "model.fit(x_train, y_train, batch_size = 1024, epochs = 25, verbose = 2, validation_data = (x_test, y_test))\n",
        "dense_dl_score = model.evaluate(x_test, y_test)\n",
        "print ( 'Dense DL  ... ', dense_dl_score)\n",
        "#print ( 'Dense DL Accuracy ... ', dense_dl_score[1])"
      ],
      "execution_count": 57,
      "outputs": [
        {
          "output_type": "stream",
          "text": [
            "Model: \"sequential_18\"\n",
            "_________________________________________________________________\n",
            "Layer (type)                 Output Shape              Param #   \n",
            "=================================================================\n",
            "dense_29 (Dense)             (None, 1024)              11264     \n",
            "_________________________________________________________________\n",
            "dense_30 (Dense)             (None, 1)                 1025      \n",
            "=================================================================\n",
            "Total params: 12,289\n",
            "Trainable params: 12,289\n",
            "Non-trainable params: 0\n",
            "_________________________________________________________________\n",
            "None\n",
            "Epoch 1/25\n",
            "473/473 - 4s - loss: 2.1762 - accuracy: 0.2568 - val_loss: 0.5533 - val_accuracy: 0.2610\n",
            "Epoch 2/25\n",
            "473/473 - 4s - loss: 1.2820 - accuracy: 0.2595 - val_loss: 0.5633 - val_accuracy: 0.2610\n",
            "Epoch 3/25\n",
            "473/473 - 4s - loss: 0.9741 - accuracy: 0.2599 - val_loss: 0.6896 - val_accuracy: 0.2610\n",
            "Epoch 4/25\n",
            "473/473 - 4s - loss: 0.8103 - accuracy: 0.2607 - val_loss: 0.9370 - val_accuracy: 0.2610\n",
            "Epoch 5/25\n",
            "473/473 - 4s - loss: 0.7090 - accuracy: 0.2608 - val_loss: 0.6509 - val_accuracy: 0.2610\n",
            "Epoch 6/25\n",
            "473/473 - 4s - loss: 0.6466 - accuracy: 0.2608 - val_loss: 0.6210 - val_accuracy: 0.2610\n",
            "Epoch 7/25\n",
            "473/473 - 4s - loss: 0.6002 - accuracy: 0.2608 - val_loss: 0.5877 - val_accuracy: 0.2610\n",
            "Epoch 8/25\n",
            "473/473 - 4s - loss: 0.5675 - accuracy: 0.2608 - val_loss: 0.5360 - val_accuracy: 0.2610\n",
            "Epoch 9/25\n",
            "473/473 - 4s - loss: 0.5444 - accuracy: 0.2608 - val_loss: 0.5603 - val_accuracy: 0.2610\n",
            "Epoch 10/25\n",
            "473/473 - 4s - loss: 0.5275 - accuracy: 0.2608 - val_loss: 0.4296 - val_accuracy: 0.2610\n",
            "Epoch 11/25\n",
            "473/473 - 4s - loss: 0.5110 - accuracy: 0.2608 - val_loss: 0.4343 - val_accuracy: 0.2610\n",
            "Epoch 12/25\n",
            "473/473 - 4s - loss: 0.4986 - accuracy: 0.2608 - val_loss: 0.4063 - val_accuracy: 0.2610\n",
            "Epoch 13/25\n",
            "473/473 - 4s - loss: 0.4890 - accuracy: 0.2608 - val_loss: 0.4029 - val_accuracy: 0.2610\n",
            "Epoch 14/25\n",
            "473/473 - 4s - loss: 0.4798 - accuracy: 0.2608 - val_loss: 0.5000 - val_accuracy: 0.2610\n",
            "Epoch 15/25\n",
            "473/473 - 4s - loss: 0.4701 - accuracy: 0.2608 - val_loss: 0.4873 - val_accuracy: 0.2610\n",
            "Epoch 16/25\n",
            "473/473 - 4s - loss: 0.4654 - accuracy: 0.2608 - val_loss: 0.5567 - val_accuracy: 0.2610\n",
            "Epoch 17/25\n",
            "473/473 - 4s - loss: 0.4599 - accuracy: 0.2608 - val_loss: 0.4151 - val_accuracy: 0.2610\n",
            "Epoch 18/25\n",
            "473/473 - 4s - loss: 0.4542 - accuracy: 0.2608 - val_loss: 0.4634 - val_accuracy: 0.2610\n",
            "Epoch 19/25\n",
            "473/473 - 4s - loss: 0.4490 - accuracy: 0.2608 - val_loss: 0.3840 - val_accuracy: 0.2610\n",
            "Epoch 20/25\n",
            "473/473 - 4s - loss: 0.4440 - accuracy: 0.2608 - val_loss: 0.4408 - val_accuracy: 0.2610\n",
            "Epoch 21/25\n",
            "473/473 - 4s - loss: 0.4391 - accuracy: 0.2608 - val_loss: 0.4738 - val_accuracy: 0.2609\n",
            "Epoch 22/25\n",
            "473/473 - 4s - loss: 0.4356 - accuracy: 0.2608 - val_loss: 0.3927 - val_accuracy: 0.2610\n",
            "Epoch 23/25\n",
            "473/473 - 4s - loss: 0.4309 - accuracy: 0.2608 - val_loss: 0.4099 - val_accuracy: 0.2610\n",
            "Epoch 24/25\n",
            "473/473 - 4s - loss: 0.4275 - accuracy: 0.2608 - val_loss: 0.4540 - val_accuracy: 0.2610\n",
            "Epoch 25/25\n",
            "473/473 - 4s - loss: 0.4244 - accuracy: 0.2608 - val_loss: 0.4595 - val_accuracy: 0.2610\n",
            "3784/3784 [==============================] - 4s 1ms/step - loss: 0.4595 - accuracy: 0.2610\n",
            "Dense DL  ...  [0.4595002830028534, 0.2610006630420685]\n"
          ],
          "name": "stdout"
        }
      ]
    },
    {
      "cell_type": "code",
      "metadata": {
        "id": "l7SsJMU81xlY",
        "colab_type": "code",
        "colab": {
          "base_uri": "https://localhost:8080/",
          "height": 34
        },
        "outputId": "572d85a2-8eb2-443c-f1a4-159a4ab14403"
      },
      "source": [
        "print ( \"looks like a normal minimum dense netork does not work, flat accuracy. was just trying out my luck.. let me see other options as well\")"
      ],
      "execution_count": 58,
      "outputs": [
        {
          "output_type": "stream",
          "text": [
            "looks like a normal minimum dense netork does not work, flat accuracy. was just trying out my luck.. let me see other options as well\n"
          ],
          "name": "stdout"
        }
      ]
    },
    {
      "cell_type": "code",
      "metadata": {
        "id": "0zSIREcI2rjM",
        "colab_type": "code",
        "colab": {}
      },
      "source": [
        "x = df.iloc[:,:-1]\n",
        "y = df.iloc[:,10:].values.ravel()\n",
        "x = x.values.reshape((x.shape[0], x.shape[1], 1))\n",
        "x_train, x_test, y_train, y_test = train_test_split(x, y, test_size=0.2)"
      ],
      "execution_count": 0,
      "outputs": []
    },
    {
      "cell_type": "code",
      "metadata": {
        "id": "AYT4xub42jxH",
        "colab_type": "code",
        "colab": {
          "base_uri": "https://localhost:8080/",
          "height": 1000
        },
        "outputId": "9d868263-c66c-4cc7-f1f8-ffac33cfb4e5"
      },
      "source": [
        "model = Sequential()\n",
        "model.add(Conv1D ( filters = 128, kernel_size = 3, activation = 'relu', input_shape = (10,1)))\n",
        "model.add(Conv1D ( filters = 128, kernel_size = 3, activation = 'relu'))\n",
        "model.add(Dropout(0.5))\n",
        "model.add(MaxPooling1D(pool_size=2))\n",
        "model.add(Flatten())\n",
        "model.add(Dense(128, activation='relu'))\n",
        "model.compile(loss='mae', optimizer='adam', metrics=['accuracy'])\n",
        "\n",
        "print(model.summary())\n",
        "model.fit(x_train, y_train, batch_size = 1024, epochs = 25, verbose = 2, validation_data = (x_test, y_test))\n",
        "dense_dl_score = model.evaluate(x_test, y_test)\n",
        "print ( 'Dense DL  ... ', dense_dl_score[0])\n",
        "print ( 'Dense DL Accuracy ... ', dense_dl_score[1])"
      ],
      "execution_count": 62,
      "outputs": [
        {
          "output_type": "stream",
          "text": [
            "Model: \"sequential_21\"\n",
            "_________________________________________________________________\n",
            "Layer (type)                 Output Shape              Param #   \n",
            "=================================================================\n",
            "conv1d_14 (Conv1D)           (None, 8, 128)            512       \n",
            "_________________________________________________________________\n",
            "conv1d_15 (Conv1D)           (None, 6, 128)            49280     \n",
            "_________________________________________________________________\n",
            "dropout_7 (Dropout)          (None, 6, 128)            0         \n",
            "_________________________________________________________________\n",
            "max_pooling1d_6 (MaxPooling1 (None, 3, 128)            0         \n",
            "_________________________________________________________________\n",
            "flatten_6 (Flatten)          (None, 384)               0         \n",
            "_________________________________________________________________\n",
            "dense_33 (Dense)             (None, 128)               49280     \n",
            "=================================================================\n",
            "Total params: 99,072\n",
            "Trainable params: 99,072\n",
            "Non-trainable params: 0\n",
            "_________________________________________________________________\n",
            "None\n",
            "Epoch 1/25\n",
            "473/473 - 36s - loss: 0.7522 - accuracy: 0.0070 - val_loss: 0.7602 - val_accuracy: 0.0070\n",
            "Epoch 2/25\n",
            "473/473 - 36s - loss: 0.5157 - accuracy: 0.0072 - val_loss: 0.6544 - val_accuracy: 0.0015\n",
            "Epoch 3/25\n",
            "473/473 - 36s - loss: 0.4618 - accuracy: 0.0068 - val_loss: 0.6627 - val_accuracy: 0.0031\n",
            "Epoch 4/25\n",
            "473/473 - 36s - loss: 0.4330 - accuracy: 0.0065 - val_loss: 0.6663 - val_accuracy: 0.0021\n",
            "Epoch 5/25\n",
            "473/473 - 36s - loss: 0.4190 - accuracy: 0.0084 - val_loss: 0.6694 - val_accuracy: 0.0083\n",
            "Epoch 6/25\n",
            "473/473 - 36s - loss: 0.4020 - accuracy: 0.0104 - val_loss: 0.5912 - val_accuracy: 0.0128\n",
            "Epoch 7/25\n",
            "473/473 - 36s - loss: 0.3912 - accuracy: 0.0103 - val_loss: 0.6438 - val_accuracy: 0.0174\n",
            "Epoch 8/25\n",
            "473/473 - 36s - loss: 0.3806 - accuracy: 0.0148 - val_loss: 0.5776 - val_accuracy: 0.0092\n",
            "Epoch 9/25\n",
            "473/473 - 36s - loss: 0.3728 - accuracy: 0.0105 - val_loss: 0.5780 - val_accuracy: 0.0040\n",
            "Epoch 10/25\n",
            "473/473 - 36s - loss: 0.3645 - accuracy: 0.0053 - val_loss: 0.6168 - val_accuracy: 0.0046\n",
            "Epoch 11/25\n",
            "473/473 - 36s - loss: 0.3578 - accuracy: 0.0095 - val_loss: 0.5839 - val_accuracy: 0.0485\n",
            "Epoch 12/25\n",
            "473/473 - 36s - loss: 0.3468 - accuracy: 0.0082 - val_loss: 0.6098 - val_accuracy: 0.0339\n",
            "Epoch 13/25\n",
            "473/473 - 36s - loss: 0.3427 - accuracy: 0.0066 - val_loss: 0.5258 - val_accuracy: 0.0119\n",
            "Epoch 14/25\n",
            "473/473 - 36s - loss: 0.3386 - accuracy: 0.0074 - val_loss: 0.5067 - val_accuracy: 0.0015\n",
            "Epoch 15/25\n",
            "473/473 - 36s - loss: 0.3317 - accuracy: 0.0049 - val_loss: 0.5499 - val_accuracy: 4.1301e-05\n",
            "Epoch 16/25\n",
            "473/473 - 36s - loss: 0.3254 - accuracy: 0.0072 - val_loss: 0.4675 - val_accuracy: 8.2603e-05\n",
            "Epoch 17/25\n",
            "473/473 - 36s - loss: 0.3204 - accuracy: 0.0073 - val_loss: 0.5749 - val_accuracy: 0.0000e+00\n",
            "Epoch 18/25\n",
            "473/473 - 36s - loss: 0.3148 - accuracy: 0.0080 - val_loss: 0.5392 - val_accuracy: 1.8999e-04\n",
            "Epoch 19/25\n",
            "473/473 - 36s - loss: 0.3098 - accuracy: 0.0065 - val_loss: 0.5353 - val_accuracy: 0.0024\n",
            "Epoch 20/25\n",
            "473/473 - 36s - loss: 0.3070 - accuracy: 0.0053 - val_loss: 0.5264 - val_accuracy: 0.0385\n",
            "Epoch 21/25\n",
            "473/473 - 36s - loss: 0.3050 - accuracy: 0.0069 - val_loss: 0.5345 - val_accuracy: 0.0000e+00\n",
            "Epoch 22/25\n",
            "473/473 - 36s - loss: 0.3012 - accuracy: 0.0062 - val_loss: 0.4903 - val_accuracy: 0.0000e+00\n",
            "Epoch 23/25\n",
            "473/473 - 36s - loss: 0.3005 - accuracy: 0.0066 - val_loss: 0.4260 - val_accuracy: 2.4781e-05\n",
            "Epoch 24/25\n",
            "473/473 - 36s - loss: 0.2997 - accuracy: 0.0081 - val_loss: 0.4771 - val_accuracy: 0.0010\n",
            "Epoch 25/25\n",
            "473/473 - 36s - loss: 0.2962 - accuracy: 0.0074 - val_loss: 0.4603 - val_accuracy: 0.0000e+00\n",
            "3784/3784 [==============================] - 7s 2ms/step - loss: 0.4599 - accuracy: 0.0000e+00\n",
            "Dense DL  ...  0.4598812162876129\n",
            "Dense DL Accuracy ...  0.0\n"
          ],
          "name": "stdout"
        }
      ]
    },
    {
      "cell_type": "code",
      "metadata": {
        "id": "BpNRv3r45xMA",
        "colab_type": "code",
        "colab": {
          "base_uri": "https://localhost:8080/",
          "height": 748
        },
        "outputId": "d9e5b737-dc54-4521-fd14-0628a3d4377f"
      },
      "source": [
        "model = Sequential()\n",
        "model.add(Conv1D(filters=128, kernel_size=3,padding='valid', activation='relu',input_shape=(10,1), strides = 1,  kernel_regularizer=l1_l2(l1=0.05, l2=0.05)))\n",
        "model.add(MaxPooling1D(2,data_format='channels_last'))\n",
        "model.add(Dropout(0.6))\n",
        "model.add(BatchNormalization())\n",
        "model.add(Conv1D(filters=128, kernel_size=3 , padding='valid', activation='relu',kernel_regularizer = l1_l2(l1=0.05, l2=0.05), strides=1))\n",
        "model.add(Dropout(0.6))\n",
        "model.add(BatchNormalization())\n",
        "model.add(Flatten())\n",
        "model.add(Dense(128, activation='relu'))\n",
        "model.add(Dropout(0.5))\n",
        "model.add(Dense(3, activation = 'softmax'))\n",
        "model.compile(loss='squared_hinge', optimizer='adadelta', metrics=['accuracy'])\n",
        "print(model.summary())\n",
        "model.fit(x, y, batch_size=1024, epochs=10, validation_split=0.2, verbose=2, shuffle=False )\n",
        "score = model.evaluate(x_test, y_test, verbose=0)\n",
        "print('Test loss:', score[0])\n",
        "print('Test accuracy:', score[1])\n",
        "\n"
      ],
      "execution_count": 0,
      "outputs": [
        {
          "output_type": "stream",
          "text": [
            "ERROR! Session/line number was not unique in database. History logging moved to new session 60\n",
            "Model: \"sequential_33\"\n",
            "_________________________________________________________________\n",
            "Layer (type)                 Output Shape              Param #   \n",
            "=================================================================\n",
            "conv1d_36 (Conv1D)           (None, 8, 128)            512       \n",
            "_________________________________________________________________\n",
            "max_pooling1d_17 (MaxPooling (None, 4, 128)            0         \n",
            "_________________________________________________________________\n",
            "dropout_38 (Dropout)         (None, 4, 128)            0         \n",
            "_________________________________________________________________\n",
            "batch_normalization_20 (Batc (None, 4, 128)            512       \n",
            "_________________________________________________________________\n",
            "conv1d_37 (Conv1D)           (None, 2, 128)            49280     \n",
            "_________________________________________________________________\n",
            "dropout_39 (Dropout)         (None, 2, 128)            0         \n",
            "_________________________________________________________________\n",
            "batch_normalization_21 (Batc (None, 2, 128)            512       \n",
            "_________________________________________________________________\n",
            "flatten_17 (Flatten)         (None, 256)               0         \n",
            "_________________________________________________________________\n",
            "dense_54 (Dense)             (None, 128)               32896     \n",
            "_________________________________________________________________\n",
            "dropout_40 (Dropout)         (None, 128)               0         \n",
            "_________________________________________________________________\n",
            "dense_55 (Dense)             (None, 3)                 387       \n",
            "=================================================================\n",
            "Total params: 84,099\n",
            "Trainable params: 83,587\n",
            "Non-trainable params: 512\n",
            "_________________________________________________________________\n",
            "None\n",
            "Epoch 1/10\n",
            "473/473 - 31s - loss: 115.4469 - accuracy: 0.0881 - val_loss: 114.0587 - val_accuracy: 0.1279\n",
            "Epoch 2/10\n",
            "473/473 - 31s - loss: 112.7562 - accuracy: 0.0940 - val_loss: 111.0544 - val_accuracy: 0.1279\n",
            "Epoch 3/10\n",
            "473/473 - 31s - loss: 109.4898 - accuracy: 0.0988 - val_loss: 107.5504 - val_accuracy: 0.1705\n",
            "Epoch 4/10\n",
            "473/473 - 31s - loss: 105.7788 - accuracy: 0.1030 - val_loss: 103.6495 - val_accuracy: 0.3358\n",
            "Epoch 5/10\n",
            "473/473 - 31s - loss: 101.7100 - accuracy: 0.1083 - val_loss: 99.4296 - val_accuracy: 0.2981\n",
            "Epoch 6/10\n"
          ],
          "name": "stdout"
        }
      ]
    }
  ]
}