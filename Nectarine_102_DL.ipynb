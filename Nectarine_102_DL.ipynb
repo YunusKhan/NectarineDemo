{
  "nbformat": 4,
  "nbformat_minor": 0,
  "metadata": {
    "colab": {
      "name": "Nectarine_102_DL.ipynb",
      "provenance": [],
      "authorship_tag": "ABX9TyMEk1hWW5tShtkEHC2mDC5r",
      "include_colab_link": true
    },
    "kernelspec": {
      "name": "python3",
      "display_name": "Python 3"
    }
  },
  "cells": [
    {
      "cell_type": "markdown",
      "metadata": {
        "id": "view-in-github",
        "colab_type": "text"
      },
      "source": [
        "<a href=\"https://colab.research.google.com/github/YunusKhan/NectarineDemo/blob/master/Nectarine_102_DL.ipynb\" target=\"_parent\"><img src=\"https://colab.research.google.com/assets/colab-badge.svg\" alt=\"Open In Colab\"/></a>"
      ]
    },
    {
      "cell_type": "code",
      "metadata": {
        "id": "sPKk8AIKpPoD",
        "colab_type": "code",
        "colab": {}
      },
      "source": [
        "from __future__ import print_function\n",
        "\n",
        "import warnings\n",
        "warnings.simplefilter(action='ignore', category=FutureWarning)\n",
        "\n",
        "\n",
        "\n",
        "import glob\n",
        "import numpy as np\n",
        "import pandas as pd\n",
        "import seaborn as sns\n",
        "import matplotlib.pyplot as plt\n",
        "\n",
        "from sklearn import preprocessing\n",
        "from sklearn.model_selection import train_test_split\n",
        "\n",
        "from tensorflow.python.keras.layers import Dense, Dropout, Flatten, Conv1D, MaxPooling1D\n",
        "from tensorflow.python.keras.models import Sequential\n"
      ],
      "execution_count": 0,
      "outputs": []
    },
    {
      "cell_type": "code",
      "metadata": {
        "id": "zRxRsnjZpZ5x",
        "colab_type": "code",
        "colab": {
          "base_uri": "https://localhost:8080/",
          "height": 34
        },
        "outputId": "6e688312-4d66-4259-c39e-5a2991321dc5"
      },
      "source": [
        "from google.colab import files\n",
        "from google.colab import drive\n",
        "drive.mount('/content/drive')"
      ],
      "execution_count": 53,
      "outputs": [
        {
          "output_type": "stream",
          "text": [
            "Drive already mounted at /content/drive; to attempt to forcibly remount, call drive.mount(\"/content/drive\", force_remount=True).\n"
          ],
          "name": "stdout"
        }
      ]
    },
    {
      "cell_type": "code",
      "metadata": {
        "id": "5ZDoAtkRphhi",
        "colab_type": "code",
        "colab": {}
      },
      "source": [
        "lframe = []\n",
        "path = \"/content/drive/My Drive/FORTH_TRACE_DATASET-master/*/*.csv\"\n",
        "for f in glob.glob(path):\n",
        "    lframe.append(pd.read_csv(f, header=None))\n",
        "df = pd.concat(lframe, ignore_index=False, sort=False, axis=0)\n",
        "\n"
      ],
      "execution_count": 0,
      "outputs": []
    },
    {
      "cell_type": "code",
      "metadata": {
        "id": "YFm4U3tepl13",
        "colab_type": "code",
        "colab": {}
      },
      "source": [
        "df = df[ df[0] == 2]  # dropping all other positions based data other than right wrist \n",
        "df = df[ df[11] <= 5] # dropping all other activites other than 1-5 \n",
        "\n",
        "del df[0] # removing the first column because it is only right wrist and is dead weight \n",
        "\n",
        "X_scaled = preprocessing.scale(df[10].values)  # normalising the data on  time stamp as it is very varied and fluctuating so keeping it between -1 & 1\n",
        "# may move it to 0 to 1 or some other thing later, right or some other scaling \n",
        "df[10] = X_scaled"
      ],
      "execution_count": 0,
      "outputs": []
    },
    {
      "cell_type": "code",
      "metadata": {
        "id": "yjilj95MqLnM",
        "colab_type": "code",
        "colab": {}
      },
      "source": [
        "x = df.iloc[:,:-1]\n",
        "y = df.iloc[:,10:].values.ravel()\n",
        "#x = x.values.reshape((x.shape[0], x.shape[1], 1))\n",
        "x_train, x_test, y_train, y_test = train_test_split(x, y, test_size=0.2)"
      ],
      "execution_count": 0,
      "outputs": []
    },
    {
      "cell_type": "code",
      "metadata": {
        "id": "cFYvqgZ5yNTQ",
        "colab_type": "code",
        "colab": {
          "base_uri": "https://localhost:8080/",
          "height": 1000
        },
        "outputId": "c24363be-409e-4b50-b4c4-639ba7342aac"
      },
      "source": [
        "model = Sequential()\n",
        "model.add(Dense(1024, input_dim=10, kernel_initializer='normal', activation='relu'))\n",
        "model.add(Dense(1, kernel_initializer='normal'))\n",
        "model.compile(loss='mean_squared_error', optimizer='rmsprop', metrics=['accuracy'])\n",
        "print(model.summary())\n",
        "model.fit(x_train, y_train, batch_size = 1024, epochs = 25, verbose = 2, validation_data = (x_test, y_test))\n",
        "dense_dl_score = model.evaluate(x_test, y_test)\n",
        "print ( 'Dense DL  ... ', dense_dl_score)\n",
        "#print ( 'Dense DL Accuracy ... ', dense_dl_score[1])"
      ],
      "execution_count": 57,
      "outputs": [
        {
          "output_type": "stream",
          "text": [
            "Model: \"sequential_18\"\n",
            "_________________________________________________________________\n",
            "Layer (type)                 Output Shape              Param #   \n",
            "=================================================================\n",
            "dense_29 (Dense)             (None, 1024)              11264     \n",
            "_________________________________________________________________\n",
            "dense_30 (Dense)             (None, 1)                 1025      \n",
            "=================================================================\n",
            "Total params: 12,289\n",
            "Trainable params: 12,289\n",
            "Non-trainable params: 0\n",
            "_________________________________________________________________\n",
            "None\n",
            "Epoch 1/25\n",
            "473/473 - 4s - loss: 2.1762 - accuracy: 0.2568 - val_loss: 0.5533 - val_accuracy: 0.2610\n",
            "Epoch 2/25\n",
            "473/473 - 4s - loss: 1.2820 - accuracy: 0.2595 - val_loss: 0.5633 - val_accuracy: 0.2610\n",
            "Epoch 3/25\n",
            "473/473 - 4s - loss: 0.9741 - accuracy: 0.2599 - val_loss: 0.6896 - val_accuracy: 0.2610\n",
            "Epoch 4/25\n",
            "473/473 - 4s - loss: 0.8103 - accuracy: 0.2607 - val_loss: 0.9370 - val_accuracy: 0.2610\n",
            "Epoch 5/25\n",
            "473/473 - 4s - loss: 0.7090 - accuracy: 0.2608 - val_loss: 0.6509 - val_accuracy: 0.2610\n",
            "Epoch 6/25\n",
            "473/473 - 4s - loss: 0.6466 - accuracy: 0.2608 - val_loss: 0.6210 - val_accuracy: 0.2610\n",
            "Epoch 7/25\n",
            "473/473 - 4s - loss: 0.6002 - accuracy: 0.2608 - val_loss: 0.5877 - val_accuracy: 0.2610\n",
            "Epoch 8/25\n",
            "473/473 - 4s - loss: 0.5675 - accuracy: 0.2608 - val_loss: 0.5360 - val_accuracy: 0.2610\n",
            "Epoch 9/25\n",
            "473/473 - 4s - loss: 0.5444 - accuracy: 0.2608 - val_loss: 0.5603 - val_accuracy: 0.2610\n",
            "Epoch 10/25\n",
            "473/473 - 4s - loss: 0.5275 - accuracy: 0.2608 - val_loss: 0.4296 - val_accuracy: 0.2610\n",
            "Epoch 11/25\n",
            "473/473 - 4s - loss: 0.5110 - accuracy: 0.2608 - val_loss: 0.4343 - val_accuracy: 0.2610\n",
            "Epoch 12/25\n",
            "473/473 - 4s - loss: 0.4986 - accuracy: 0.2608 - val_loss: 0.4063 - val_accuracy: 0.2610\n",
            "Epoch 13/25\n",
            "473/473 - 4s - loss: 0.4890 - accuracy: 0.2608 - val_loss: 0.4029 - val_accuracy: 0.2610\n",
            "Epoch 14/25\n",
            "473/473 - 4s - loss: 0.4798 - accuracy: 0.2608 - val_loss: 0.5000 - val_accuracy: 0.2610\n",
            "Epoch 15/25\n",
            "473/473 - 4s - loss: 0.4701 - accuracy: 0.2608 - val_loss: 0.4873 - val_accuracy: 0.2610\n",
            "Epoch 16/25\n",
            "473/473 - 4s - loss: 0.4654 - accuracy: 0.2608 - val_loss: 0.5567 - val_accuracy: 0.2610\n",
            "Epoch 17/25\n",
            "473/473 - 4s - loss: 0.4599 - accuracy: 0.2608 - val_loss: 0.4151 - val_accuracy: 0.2610\n",
            "Epoch 18/25\n",
            "473/473 - 4s - loss: 0.4542 - accuracy: 0.2608 - val_loss: 0.4634 - val_accuracy: 0.2610\n",
            "Epoch 19/25\n",
            "473/473 - 4s - loss: 0.4490 - accuracy: 0.2608 - val_loss: 0.3840 - val_accuracy: 0.2610\n",
            "Epoch 20/25\n",
            "473/473 - 4s - loss: 0.4440 - accuracy: 0.2608 - val_loss: 0.4408 - val_accuracy: 0.2610\n",
            "Epoch 21/25\n",
            "473/473 - 4s - loss: 0.4391 - accuracy: 0.2608 - val_loss: 0.4738 - val_accuracy: 0.2609\n",
            "Epoch 22/25\n",
            "473/473 - 4s - loss: 0.4356 - accuracy: 0.2608 - val_loss: 0.3927 - val_accuracy: 0.2610\n",
            "Epoch 23/25\n",
            "473/473 - 4s - loss: 0.4309 - accuracy: 0.2608 - val_loss: 0.4099 - val_accuracy: 0.2610\n",
            "Epoch 24/25\n",
            "473/473 - 4s - loss: 0.4275 - accuracy: 0.2608 - val_loss: 0.4540 - val_accuracy: 0.2610\n",
            "Epoch 25/25\n",
            "473/473 - 4s - loss: 0.4244 - accuracy: 0.2608 - val_loss: 0.4595 - val_accuracy: 0.2610\n",
            "3784/3784 [==============================] - 4s 1ms/step - loss: 0.4595 - accuracy: 0.2610\n",
            "Dense DL  ...  [0.4595002830028534, 0.2610006630420685]\n"
          ],
          "name": "stdout"
        }
      ]
    },
    {
      "cell_type": "code",
      "metadata": {
        "id": "l7SsJMU81xlY",
        "colab_type": "code",
        "colab": {
          "base_uri": "https://localhost:8080/",
          "height": 34
        },
        "outputId": "572d85a2-8eb2-443c-f1a4-159a4ab14403"
      },
      "source": [
        "print ( \"looks like a normal minimum dense netork does not work, flat accuracy. was just trying out my luck.. let me see other options as well\")"
      ],
      "execution_count": 58,
      "outputs": [
        {
          "output_type": "stream",
          "text": [
            "looks like a normal minimum dense netork does not work, flat accuracy. was just trying out my luck.. let me see other options as well\n"
          ],
          "name": "stdout"
        }
      ]
    }
  ]
}